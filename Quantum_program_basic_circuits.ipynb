{
 "cells": [
  {
   "cell_type": "code",
   "execution_count": 1,
   "id": "6110a758",
   "metadata": {},
   "outputs": [],
   "source": [
    "import numpy # to perform some mathematical operations\n",
    "import qiskit\n",
    "from qiskit import QuantumCircuit #created a quantum circuit\n",
    "from qiskit import Aer, transpile #creates a quantum simulating environment\n",
    "import math # to perform some mathematical operations\n",
    "import matplotlib # to visualize data\n",
    "import pylatexenc"
   ]
  },
  {
   "cell_type": "code",
   "execution_count": 2,
   "id": "40ce9a0a",
   "metadata": {},
   "outputs": [
    {
     "data": {
      "text/plain": [
       "{'qiskit-terra': '0.19.2', 'qiskit-aer': '0.10.3', 'qiskit-ignis': '0.7.0', 'qiskit-ibmq-provider': '0.18.3', 'qiskit-aqua': '0.9.5', 'qiskit': '0.34.2', 'qiskit-nature': None, 'qiskit-finance': None, 'qiskit-optimization': None, 'qiskit-machine-learning': None}"
      ]
     },
     "execution_count": 2,
     "metadata": {},
     "output_type": "execute_result"
    }
   ],
   "source": [
    "# checking version to understand library is successfully loaded\n",
    "qiskit.__qiskit_version__"
   ]
  },
  {
   "cell_type": "code",
   "execution_count": 4,
   "id": "2f5a1971",
   "metadata": {},
   "outputs": [],
   "source": [
    "#creating a simple circuit\n",
    "circ = QuantumCircuit(1) #creating circuit 1 quantum bit \n",
    "initial_state = [0,1] #creating initial state as alpha0 and beta1\n",
    "circ.initialize(initial_state,0) # Initialise the circuit always 0 if not initialised\n",
    "circ.measure_all() #measuring the qubits"
   ]
  },
  {
   "cell_type": "code",
   "execution_count": 5,
   "id": "aab2f632",
   "metadata": {},
   "outputs": [
    {
     "data": {
      "text/html": [
       "<pre style=\"word-wrap: normal;white-space: pre;background: #fff0;line-height: 1.1;font-family: &quot;Courier New&quot;,Courier,monospace\">        ┌─────────────────┐ ░ ┌─┐\n",
       "     q: ┤ Initialize(0,1) ├─░─┤M├\n",
       "        └─────────────────┘ ░ └╥┘\n",
       "meas: 1/═══════════════════════╩═\n",
       "                               0 </pre>"
      ],
      "text/plain": [
       "        ┌─────────────────┐ ░ ┌─┐\n",
       "     q: ┤ Initialize(0,1) ├─░─┤M├\n",
       "        └─────────────────┘ ░ └╥┘\n",
       "meas: 1/═══════════════════════╩═\n",
       "                               0 "
      ]
     },
     "execution_count": 5,
     "metadata": {},
     "output_type": "execute_result"
    }
   ],
   "source": [
    "circ.draw()"
   ]
  },
  {
   "cell_type": "code",
   "execution_count": 6,
   "id": "b7582eb8",
   "metadata": {},
   "outputs": [
    {
     "data": {
      "image/png": "[encoded data removed]",
      "text/plain": [
       "<Figure size 297.479x144.48 with 1 Axes>"
      ]
     },
     "execution_count": 6,
     "metadata": {},
     "output_type": "execute_result"
    }
   ],
   "source": [
    "# import matplotlib\n",
    "# import pylatexenc\n",
    "circ.draw('mpl')#mpl is matplotlibDrawer and pylatexenc library should be installed using pip install pylatexenc"
   ]
  },
  {
   "cell_type": "code",
   "execution_count": 7,
   "id": "6a218033",
   "metadata": {},
   "outputs": [],
   "source": [
    "# creating a simulator\n",
    "simulator = Aer.get_backend(\"aer_simulator\")# selecting a quantum simulator before running into real quantum processor\n",
    "circ = transpile(circ,simulator) #convert the created circuit that quantum computer hardware understands"
   ]
  },
  {
   "cell_type": "code",
   "execution_count": 8,
   "id": "3093f218",
   "metadata": {},
   "outputs": [
    {
     "data": {
      "image/png": "[encoded data removed]",
      "text/plain": [
       "<Figure size 504x360 with 1 Axes>"
      ]
     },
     "execution_count": 8,
     "metadata": {},
     "output_type": "execute_result"
    }
   ],
   "source": [
    "result = simulator.run(circ).result()\n",
    "counts = result.get_counts(circ)\n",
    "from qiskit.tools.visualization import plot_histogram\n",
    "plot_histogram(counts)"
   ]
  },
  {
   "cell_type": "code",
   "execution_count": null,
   "id": "f69e3832",
   "metadata": {},
   "outputs": [],
   "source": [
    "# # you can replace the 4th cell in this program by adding below code and check the histogram results\n",
    "# #creating a simple circuit once again\n",
    "# circ = QuantumCircuit(1) #creating 1 qubit circuit\n",
    "# initial_state = [math.sqrt(1/2), math.sqrt(1/2)] #creating initial state as alpha0 and beta1\n",
    "# circ.initialize(initial_state,0) # always 0 if not initialised\n",
    "# circ.measure_all()"
   ]
  },
  {
   "cell_type": "code",
   "execution_count": null,
   "id": "21dfadde",
   "metadata": {},
   "outputs": [],
   "source": [
    "# # once again you can replace the 4th cell in this program by adding below code and check the histogram results\n",
    "# # creating a simple circuit\n",
    "# circ = QuantumCircuit(1) #creating 1 qubit circuit\n",
    "# initial_state = [math.sqrt(3/4), math.sqrt(1/4)] #creating initial state as alpha0 and beta1\n",
    "# circ.initialize(initial_state,0) # always 0 if not initialised\n",
    "# circ.measure_all()"
   ]
  }
 ],
 "metadata": {
  "kernelspec": {
   "display_name": "Python 3 (ipykernel)",
   "language": "python",
   "name": "python3"
  },
  "language_info": {
   "codemirror_mode": {
    "name": "ipython",
    "version": 3
   },
   "file_extension": ".py",
   "mimetype": "text/x-python",
   "name": "python",
   "nbconvert_exporter": "python",
   "pygments_lexer": "ipython3",
   "version": "3.9.6"
  }
 },
 "nbformat": 4,
 "nbformat_minor": 5
}
